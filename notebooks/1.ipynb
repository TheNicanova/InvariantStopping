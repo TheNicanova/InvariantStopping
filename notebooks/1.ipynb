{
 "cells": [
  {
   "cell_type": "code",
   "execution_count": 1,
   "metadata": {},
   "outputs": [],
   "source": [
    "abstract type StoppingPolicy end\n",
    "\n",
    "struct DeterministicStoppping{T <: Number} <: StoppingPolicy \n",
    "  time::T\n",
    "end \n",
    "\n",
    "\n",
    "abstract type Schedule{T <: StoppingPolicy} end\n",
    "\n",
    "struct End{T} <: Schedule{T} \n",
    "  stopping_time::T\n",
    "end\n",
    "\n",
    "struct Sequence{T} <: Schedule{T}\n",
    "  stopping_policy::T\n",
    "  next::Union{End{<:StoppingPolicy}, Sequence{<:StoppingPolicy}}\n",
    "end\n",
    "\n",
    "struct Branching{T,B} <: Schedule{T}\n",
    "  stopping_policy::T\n",
    "  next::NTuple{B, <: Schedule}\n",
    "end"
   ]
  },
  {
   "cell_type": "code",
   "execution_count": 25,
   "metadata": {},
   "outputs": [
    {
     "data": {
      "text/plain": [
       "get_coord (generic function with 1 method)"
      ]
     },
     "metadata": {},
     "output_type": "display_data"
    }
   ],
   "source": [
    "\"\"\"\n",
    "State\n",
    "\n",
    "A State object is a time-data pair.\n",
    "\n",
    "Fields\n",
    "\n",
    "    time::Float64: Represents the specific time associated with the state. This is a floating-point value that should detail the time at which the state is applicable or was recorded.\n",
    "\n",
    "    data: The type and structure of data can vary based on the nature of the state being represented.\n",
    "\n",
    "\n",
    "\n",
    "Examples\n",
    "\n",
    "julia> state = State(123.45, (2.0,4.0))\n",
    "\"\"\"\n",
    "\n",
    "struct State{N <: Integer, T <: Number, V <: Number}\n",
    "  time::T\n",
    "  coordinates::NTuple{N, V}\n",
    "end\n",
    "\n",
    "\n",
    "\n",
    "\n",
    "get_time(state::State) = state.time\n",
    "  \n",
    "get_coord(state::State) = state.coordinates\n",
    "\n"
   ]
  },
  {
   "cell_type": "code",
   "execution_count": 37,
   "metadata": {},
   "outputs": [
    {
     "data": {
      "text/plain": [
       "State"
      ]
     },
     "metadata": {},
     "output_type": "display_data"
    }
   ],
   "source": [
    "State(t::T, coords::NTuple{N,V}) where {T <: Number, N, V <: Number} = State{N,T,V}(t, coords)\n"
   ]
  },
  {
   "cell_type": "code",
   "execution_count": 38,
   "metadata": {},
   "outputs": [
    {
     "ename": "MethodError",
     "evalue": "MethodError: no method matching State(::Int64, ::Tuple{Int64})\nClosest candidates are:\n  State(::T, !Matched::Tuple{Vararg{V, N}}) where {T<:Number, N<:Integer, V<:Number} at ~/Projects/Julia_Sandbox/InvariantStopping/notebooks/1.ipynb:1",
     "output_type": "error",
     "traceback": [
      "MethodError: no method matching State(::Int64, ::Tuple{Int64})\n",
      "Closest candidates are:\n",
      "  State(::T, !Matched::Tuple{Vararg{V, N}}) where {T<:Number, N<:Integer, V<:Number} at ~/Projects/Julia_Sandbox/InvariantStopping/notebooks/1.ipynb:1\n",
      "\n",
      "Stacktrace:\n",
      " [1] top-level scope\n",
      "   @ ~/Projects/Julia_Sandbox/InvariantStopping/notebooks/1.ipynb:1"
     ]
    }
   ],
   "source": [
    "State(3,(1,))"
   ]
  },
  {
   "cell_type": "code",
   "execution_count": 13,
   "metadata": {},
   "outputs": [
    {
     "ename": "TypeError",
     "evalue": "TypeError: in Schedule, in T, expected T<:StoppingPolicy, got Type{Int64}",
     "output_type": "error",
     "traceback": [
      "TypeError: in Schedule, in T, expected T<:StoppingPolicy, got Type{Int64}\n",
      "\n",
      "Stacktrace:\n",
      " [1] top-level scope\n",
      "   @ ~/Projects/Julia_Sandbox/InvariantStopping/notebooks/1.ipynb:1"
     ]
    }
   ],
   "source": []
  },
  {
   "cell_type": "code",
   "execution_count": 10,
   "metadata": {},
   "outputs": [
    {
     "data": {
      "text/plain": [
       "false"
      ]
     },
     "metadata": {},
     "output_type": "display_data"
    }
   ],
   "source": [
    "End <: Branching"
   ]
  },
  {
   "cell_type": "code",
   "execution_count": 7,
   "metadata": {},
   "outputs": [
    {
     "data": {
      "text/plain": [
       "Sequence{DeterministicStoppping{Float64}}(DeterministicStoppping{Float64}(1.0), End{DeterministicStoppping{Float64}}(DeterministicStoppping{Float64}(1.0)))"
      ]
     },
     "metadata": {},
     "output_type": "display_data"
    }
   ],
   "source": [
    "c = Sequence(a,b)"
   ]
  },
  {
   "cell_type": "markdown",
   "metadata": {},
   "source": []
  },
  {
   "cell_type": "code",
   "execution_count": null,
   "metadata": {},
   "outputs": [],
   "source": []
  },
  {
   "cell_type": "code",
   "execution_count": 2,
   "metadata": {},
   "outputs": [
    {
     "name": "stdout",
     "output_type": "stream",
     "text": [
      "Hello, Julia\n"
     ]
    }
   ],
   "source": [
    "name = \"Julia\"\n",
    "println(\"Hello, $name\")"
   ]
  },
  {
   "cell_type": "code",
   "execution_count": 27,
   "metadata": {},
   "outputs": [
    {
     "data": {
      "text/plain": [
       "get_time (generic function with 2 methods)"
      ]
     },
     "metadata": {},
     "output_type": "display_data"
    }
   ],
   "source": [
    "get_time(stopping_policy :: DeterministicStoppping) = return stopping_policy.time\n",
    "\n",
    "\n",
    "\n"
   ]
  },
  {
   "cell_type": "code",
   "execution_count": 30,
   "metadata": {},
   "outputs": [],
   "source": [
    "\n",
    "abstract type Schedule{T <: StoppingPolicy} end\n",
    "\n",
    "\n",
    "struct Sequential{T} <: Schedule{T}\n",
    "  stopping_policy::T\n",
    "  next::Sequential\n",
    "end\n"
   ]
  },
  {
   "cell_type": "code",
   "execution_count": 33,
   "metadata": {},
   "outputs": [],
   "source": [
    "abstract type SequentialSchedule{T} <: Schedule{T} end"
   ]
  },
  {
   "cell_type": "code",
   "execution_count": 34,
   "metadata": {},
   "outputs": [],
   "source": [
    "struct Sequence{T} <: SequentialSchedule{T}\n",
    "  stopping_policy::T\n",
    "  next::SequentialSchedule\n",
    "end\n",
    "\n",
    "struct Leaf <: SequentialSchedule{T}\n",
    "  stopping_policy::T\n",
    "end"
   ]
  },
  {
   "cell_type": "code",
   "execution_count": 36,
   "metadata": {},
   "outputs": [
    {
     "ename": "ErrorException",
     "evalue": "invalid redefinition of type Branching",
     "output_type": "error",
     "traceback": [
      "invalid redefinition of type Branching\n",
      "\n",
      "Stacktrace:\n",
      " [1] top-level scope\n",
      "   @ ~/Projects/Julia_Sandbox/InvariantStopping/notebooks/1.ipynb:3"
     ]
    }
   ],
   "source": [
    "struct Branching{T,N} <: BranchingSchedule{T}\n",
    "  stopping_policy::T\n",
    "  next::NTuple{N, <: Schedule}\n",
    "end"
   ]
  },
  {
   "cell_type": "code",
   "execution_count": null,
   "metadata": {},
   "outputs": [],
   "source": []
  },
  {
   "cell_type": "code",
   "execution_count": null,
   "metadata": {},
   "outputs": [],
   "source": [
    "Branching(DeterministicStoppping(3),)"
   ]
  },
  {
   "cell_type": "code",
   "execution_count": 4,
   "metadata": {},
   "outputs": [],
   "source": [
    "mutable struct State{N, T <: Number, V <: Number}\n",
    "  time::T\n",
    "  coordinates::NTuple{N, V}\n",
    "end"
   ]
  },
  {
   "cell_type": "code",
   "execution_count": 7,
   "metadata": {},
   "outputs": [
    {
     "data": {
      "text/plain": [
       "State{2, Int64, Int64}(1, (2, 3))"
      ]
     },
     "metadata": {},
     "output_type": "display_data"
    }
   ],
   "source": [
    "a = State(1,(2,3))"
   ]
  },
  {
   "cell_type": "code",
   "execution_count": 24,
   "metadata": {},
   "outputs": [
    {
     "ename": "InexactError",
     "evalue": "InexactError: Int64(3 + 2im)",
     "output_type": "error",
     "traceback": [
      "InexactError: Int64(3 + 2im)\n",
      "\n",
      "Stacktrace:\n",
      " [1] Real\n",
      "   @ ./complex.jl:44 [inlined]\n",
      " [2] convert\n",
      "   @ ./number.jl:7 [inlined]\n",
      " [3] setproperty!(x::State{2, Int64, Int64}, f::Symbol, v::Complex{Int64})\n",
      "   @ Base ./Base.jl:39\n",
      " [4] top-level scope\n",
      "   @ ~/Projects/Julia_Sandbox/InvariantStopping/notebooks/1.ipynb:1"
     ]
    }
   ],
   "source": [
    "a.time = Complex(3,2)"
   ]
  },
  {
   "cell_type": "code",
   "execution_count": 23,
   "metadata": {},
   "outputs": [
    {
     "data": {
      "text/plain": [
       "3 + 2im"
      ]
     },
     "metadata": {},
     "output_type": "display_data"
    }
   ],
   "source": [
    "Complex(3,2)"
   ]
  },
  {
   "cell_type": "code",
   "execution_count": null,
   "metadata": {},
   "outputs": [],
   "source": []
  },
  {
   "cell_type": "code",
   "execution_count": 11,
   "metadata": {},
   "outputs": [
    {
     "ename": "MethodError",
     "evalue": "MethodError: Cannot `convert` an object of type \n  Tuple{Int64{},Int64{},Int64} to an object of type \n  Tuple{Int64{},Int64{}}\nClosest candidates are:\n  convert(::Type{T}, ::Tuple{Vararg{Any, N}}) where {N, T<:Tuple} at essentials.jl:332\n  convert(::Type{T}, !Matched::T) where T<:Tuple at essentials.jl:331\n  convert(::Type{T}, !Matched::CartesianIndex) where T<:Tuple at multidimensional.jl:131\n  ...",
     "output_type": "error",
     "traceback": [
      "MethodError: Cannot `convert` an object of type \n",
      "  Tuple{Int64{},Int64{},Int64} to an object of type \n",
      "  Tuple{Int64{},Int64{}}\n",
      "Closest candidates are:\n",
      "  convert(::Type{T}, ::Tuple{Vararg{Any, N}}) where {N, T<:Tuple} at essentials.jl:332\n",
      "  convert(::Type{T}, !Matched::T) where T<:Tuple at essentials.jl:331\n",
      "  convert(::Type{T}, !Matched::CartesianIndex) where T<:Tuple at multidimensional.jl:131\n",
      "  ...\n",
      "\n",
      "Stacktrace:\n",
      " [1] _tuple_error(T::Type, x::Tuple{Int64, Int64, Int64})\n",
      "   @ Base ./essentials.jl:329\n",
      " [2] convert(#unused#::Type{Tuple{Int64, Int64}}, x::Tuple{Int64, Int64, Int64})\n",
      "   @ Base ./essentials.jl:336\n",
      " [3] setproperty!(x::State{2, Int64, Int64}, f::Symbol, v::Tuple{Int64, Int64, Int64})\n",
      "   @ Base ./Base.jl:39\n",
      " [4] top-level scope\n",
      "   @ ~/Projects/Julia_Sandbox/InvariantStopping/notebooks/1.ipynb:1"
     ]
    }
   ],
   "source": [
    "a.coordinates = (2,3,4)"
   ]
  },
  {
   "cell_type": "code",
   "execution_count": 6,
   "metadata": {},
   "outputs": [
    {
     "ename": "MethodError",
     "evalue": "MethodError: no method matching State(::Int64, ::Tuple{Float64, Int64})\nClosest candidates are:\n  State(::T, !Matched::Tuple{Vararg{V, N}}) where {N, T<:Number, V<:Number} at ~/Projects/Julia_Sandbox/InvariantStopping/notebooks/1.ipynb:2",
     "output_type": "error",
     "traceback": [
      "MethodError: no method matching State(::Int64, ::Tuple{Float64, Int64})\n",
      "Closest candidates are:\n",
      "  State(::T, !Matched::Tuple{Vararg{V, N}}) where {N, T<:Number, V<:Number} at ~/Projects/Julia_Sandbox/InvariantStopping/notebooks/1.ipynb:2\n",
      "\n",
      "Stacktrace:\n",
      " [1] top-level scope\n",
      "   @ ~/Projects/Julia_Sandbox/InvariantStopping/notebooks/1.ipynb:1"
     ]
    }
   ],
   "source": [
    "State(1,(2.0,3))"
   ]
  },
  {
   "cell_type": "code",
   "execution_count": 6,
   "metadata": {},
   "outputs": [
    {
     "data": {
      "text/plain": [
       "false"
      ]
     },
     "metadata": {},
     "output_type": "display_data"
    }
   ],
   "source": [
    "ConcreteType{Int64} <: AbstractType{Float64}"
   ]
  },
  {
   "cell_type": "code",
   "execution_count": 2,
   "metadata": {},
   "outputs": [
    {
     "ename": "UndefVarError",
     "evalue": "UndefVarError: T not defined",
     "output_type": "error",
     "traceback": [
      "UndefVarError: T not defined\n",
      "\n",
      "Stacktrace:\n",
      " [1] top-level scope\n",
      "   @ ~/Projects/InvariantStopping/notebooks/1.ipynb:1"
     ]
    }
   ],
   "source": [
    "struct R{U} <: D{T} \n",
    "  data::U\n",
    "end "
   ]
  },
  {
   "cell_type": "code",
   "execution_count": 3,
   "metadata": {},
   "outputs": [
    {
     "ename": "UndefVarError",
     "evalue": "UndefVarError: UnderlyingModel not defined",
     "output_type": "error",
     "traceback": [
      "UndefVarError: UnderlyingModel not defined\n",
      "\n",
      "Stacktrace:\n",
      "  [1] eval\n",
      "    @ ./boot.jl:368 [inlined]\n",
      "  [2] include_string(mapexpr::typeof(REPL.softscope), mod::Module, code::String, filename::String)\n",
      "    @ Base ./loading.jl:1428\n",
      "  [3] #invokelatest#2\n",
      "    @ ./essentials.jl:729 [inlined]\n",
      "  [4] invokelatest\n",
      "    @ ./essentials.jl:726 [inlined]\n",
      "  [5] (::VSCodeServer.var\"#202#203\"{VSCodeServer.NotebookRunCellArguments, String})()\n",
      "    @ VSCodeServer ~/.vscode/extensions/julialang.language-julia-1.54.2/scripts/packages/VSCodeServer/src/serve_notebook.jl:19\n",
      "  [6] withpath(f::VSCodeServer.var\"#202#203\"{VSCodeServer.NotebookRunCellArguments, String}, path::String)\n",
      "    @ VSCodeServer ~/.vscode/extensions/julialang.language-julia-1.54.2/scripts/packages/VSCodeServer/src/repl.jl:274\n",
      "  [7] notebook_runcell_request(conn::VSCodeServer.JSONRPC.JSONRPCEndpoint{Base.PipeEndpoint, Base.PipeEndpoint}, params::VSCodeServer.NotebookRunCellArguments)\n",
      "    @ VSCodeServer ~/.vscode/extensions/julialang.language-julia-1.54.2/scripts/packages/VSCodeServer/src/serve_notebook.jl:13\n",
      "  [8] dispatch_msg(x::VSCodeServer.JSONRPC.JSONRPCEndpoint{Base.PipeEndpoint, Base.PipeEndpoint}, dispatcher::VSCodeServer.JSONRPC.MsgDispatcher, msg::Dict{String, Any})\n",
      "    @ VSCodeServer.JSONRPC ~/.vscode/extensions/julialang.language-julia-1.54.2/scripts/packages/JSONRPC/src/typed.jl:67\n",
      "  [9] serve_notebook(pipename::String, outputchannel_logger::Base.CoreLogging.SimpleLogger; crashreporting_pipename::String)\n",
      "    @ VSCodeServer ~/.vscode/extensions/julialang.language-julia-1.54.2/scripts/packages/VSCodeServer/src/serve_notebook.jl:139\n",
      " [10] top-level scope\n",
      "    @ ~/.vscode/extensions/julialang.language-julia-1.54.2/scripts/notebook/notebook.jl:32"
     ]
    }
   ],
   "source": [
    "using .UnderlyingModel"
   ]
  },
  {
   "cell_type": "code",
   "execution_count": null,
   "metadata": {},
   "outputs": [],
   "source": []
  }
 ],
 "metadata": {
  "kernelspec": {
   "display_name": "Julia 1.8.2",
   "language": "julia",
   "name": "julia-1.8"
  },
  "language_info": {
   "file_extension": ".jl",
   "mimetype": "application/julia",
   "name": "julia",
   "version": "1.8.2"
  },
  "orig_nbformat": 4
 },
 "nbformat": 4,
 "nbformat_minor": 2
}
